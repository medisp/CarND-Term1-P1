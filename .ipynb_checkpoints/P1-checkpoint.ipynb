{
 "cells": [
  {
   "cell_type": "markdown",
   "metadata": {},
   "source": [
    "# **Finding Lane Lines on the Road** \n",
    "***\n",
    "In this project, you will use the tools you learned about in the lesson to identify lane lines on the road.  You can develop your pipeline on a series of individual images, and later apply the result to a video stream (really just a series of images). Check out the video clip \"raw-lines-example.mp4\" (also contained in this repository) to see what the output should look like after using the helper functions below. \n",
    "\n",
    "Once you have a result that looks roughly like \"raw-lines-example.mp4\", you'll need to get creative and try to average and/or extrapolate the line segments you've detected to map out the full extent of the lane lines.  You can see an example of the result you're going for in the video \"P1_example.mp4\".  Ultimately, you would like to draw just one line for the left side of the lane, and one for the right.\n",
    "\n",
    "---\n",
    "Let's have a look at our first image called 'test_images/solidWhiteRight.jpg'.  Run the 2 cells below (hit Shift-Enter or the \"play\" button above) to display the image.\n",
    "\n",
    "**Note: If, at any point, you encounter frozen display windows or other confounding issues, you can always start again with a clean slate by going to the \"Kernel\" menu above and selecting \"Restart & Clear Output\".**\n",
    "\n",
    "---"
   ]
  },
  {
   "cell_type": "markdown",
   "metadata": {},
   "source": [
    "**The tools you have are color selection, region of interest selection, grayscaling, Gaussian smoothing, Canny Edge Detection and Hough Tranform line detection.  You  are also free to explore and try other techniques that were not presented in the lesson.  Your goal is piece together a pipeline to detect the line segments in the image, then average/extrapolate them and draw them onto the image for display (as below).  Once you have a working pipeline, try it out on the video stream below.**\n",
    "\n",
    "---\n",
    "\n",
    "<figure>\n",
    " <img src=\"line-segments-example.jpg\" width=\"380\" alt=\"Combined Image\" />\n",
    " <figcaption>\n",
    " <p></p> \n",
    " <p style=\"text-align: center;\"> Your output should look something like this (above) after detecting line segments using the helper functions below </p> \n",
    " </figcaption>\n",
    "</figure>\n",
    " <p></p> \n",
    "<figure>\n",
    " <img src=\"laneLines_thirdPass.jpg\" width=\"380\" alt=\"Combined Image\" />\n",
    " <figcaption>\n",
    " <p></p> \n",
    " <p style=\"text-align: center;\"> Your goal is to connect/average/extrapolate line segments to get output like this</p> \n",
    " </figcaption>\n",
    "</figure>"
   ]
  },
  {
   "cell_type": "markdown",
   "metadata": {},
   "source": [
    "**Run the cell below to import some packages.  If you get an `import error` for a package you've already installed, try changing your kernel (select the Kernel menu above --> Change Kernel).  Still have problems?  Try relaunching Jupyter Notebook from the terminal prompt.  Also, see [this forum post](https://carnd-forums.udacity.com/cq/viewquestion.action?spaceKey=CAR&id=29496372&questionTitle=finding-lanes---import-cv2-fails-even-though-python-in-the-terminal-window-has-no-problem-with-import-cv2) for more troubleshooting tips.**  "
   ]
  },
  {
   "cell_type": "code",
   "execution_count": null,
   "metadata": {
    "collapsed": false,
    "scrolled": true
   },
   "outputs": [],
   "source": [
    "#reading in an image\n",
    "image = mpimg.imread('testimages/solidWhiteRight.jpg')\n",
    "#printing out some stats and plotting\n",
    "print('This image is:', type(image), 'with dimesions:', image.shape)\n",
    "plt.imshow(image[520:580,:])  # if you wanted to show a single color channel image called 'gray', for example, call as plt.imshow(gray, cmap='gray')\n",
    "img2=np.copy(image)\n",
    "img2lines = cv2.line(img2[300:,150:850],(24,99),(92,500),255)\n",
    "plt.imshow(img2lines)\n",
    "\n",
    "#cv2.line(img2[300:,150:850],(24,99),(92,500))\n",
    "#img2lines = cv2.line(img2[300:,150:850],(24,99),(92,500),255)"
   ]
  },
  {
   "cell_type": "code",
   "execution_count": 1,
   "metadata": {
    "collapsed": false
   },
   "outputs": [],
   "source": [
    "#importing some useful packages\n",
    "import matplotlib.pyplot as plt\n",
    "import matplotlib.image as mpimg\n",
    "import numpy as np\n",
    "import cv2\n",
    "%matplotlib inline"
   ]
  },
  {
   "cell_type": "markdown",
   "metadata": {},
   "source": [
    "**Some OpenCV functions (beyond those introduced in the lesson) that might be useful for this project are:**\n",
    "\n",
    "`cv2.inRange()` for color selection  \n",
    "`cv2.fillPoly()` for regions selection  \n",
    "`cv2.line()` to draw lines on an image given endpoints  \n",
    "`cv2.addWeighted()` to coadd / overlay two images\n",
    "`cv2.cvtColor()` to grayscale or change color\n",
    "`cv2.imwrite()` to output images to file  \n",
    "`cv2.bitwise_and()` to apply a mask to an image\n",
    "\n",
    "**Check out the OpenCV documentation to learn about these and discover even more awesome functionality!**"
   ]
  },
  {
   "cell_type": "markdown",
   "metadata": {},
   "source": [
    "Below are some helper functions to help get you started. They should look familiar from the lesson!"
   ]
  },
  {
   "cell_type": "code",
   "execution_count": null,
   "metadata": {
    "collapsed": true
   },
   "outputs": [],
   "source": [
    "import math\n",
    "\n",
    "def grayscale(img):\n",
    "    \"\"\"Applies the Grayscale transform\n",
    "    This will return an image with only one color channel\n",
    "    but NOTE: to see the returned image as grayscale\n",
    "    (assuming your grayscaled image is called 'gray')\n",
    "    you should call plt.imshow(gray, cmap='gray')\"\"\"\n",
    "    return cv2.cvtColor(img, cv2.COLOR_RGB2GRAY)\n",
    "    # Or use BGR2GRAY if you read an image with cv2.imread()\n",
    "    # return cv2.cvtColor(img, cv2.COLOR_BGR2GRAY)\n",
    "    \n",
    "def canny(img, low_threshold, high_threshold):\n",
    "    \"\"\"Applies the Canny transform\"\"\"\n",
    "    return cv2.Canny(img, low_threshold, high_threshold)\n",
    "\n",
    "def gaussian_blur(img, kernel_size):\n",
    "    \"\"\"Applies a Gaussian Noise kernel\"\"\"\n",
    "    return cv2.GaussianBlur(img, (kernel_size, kernel_size), 0)\n",
    "\n",
    "def region_of_interest(img, vertices):\n",
    "    \"\"\"\n",
    "    Applies an image mask.\n",
    "    \n",
    "    Only keeps the region of the image defined by the polygon\n",
    "    formed from `vertices`. The rest of the image is set to black.\n",
    "    \"\"\"\n",
    "    #defining a blank mask to start with\n",
    "    mask = np.zeros_like(img)   \n",
    "    \n",
    "    #defining a 3 channel or 1 channel color to fill the mask with depending on the input image\n",
    "    if len(img.shape) > 2:\n",
    "        channel_count = img.shape[2]  # i.e. 3 or 4 depending on your image\n",
    "        ignore_mask_color = (255,) * channel_count\n",
    "    else:\n",
    "        ignore_mask_color = 255\n",
    "        \n",
    "    #filling pixels inside the polygon defined by \"vertices\" with the fill color    \n",
    "    cv2.fillPoly(mask, vertices, ignore_mask_color)\n",
    "    \n",
    "    #returning the image only where mask pixels are nonzero\n",
    "    masked_image = cv2.bitwise_and(img, mask)\n",
    "    return masked_image\n",
    "\n",
    "\n",
    "def draw_lines(img, lines, color=[255, 0, 0], thickness=10):\n",
    "    \"\"\"\n",
    "    NOTE: this is the function you might want to use as a starting point once you want to \n",
    "    average/extrapolate the line segments you detect to map out the full\n",
    "    extent of the lane (going from the result shown in raw-lines-example.mp4\n",
    "    to that shown in P1_example.mp4).  \n",
    "    \n",
    "    Think about things like separating line segments by their \n",
    "    slope ((y2-y1)/(x2-x1)) to decide which segments are part of the left\n",
    "    line vs. the right line.  Then, you can average the position of each of \n",
    "    the lines and extrapolate to the top and bottom of the lane.\n",
    "    \n",
    "    This function draws `lines` with `color` and `thickness`.    \n",
    "    Lines are drawn on the image inplace (mutates the image).\n",
    "    If you want to make the lines semi-transparent, think about combining\n",
    "    this function with the weighted_img() function below\n",
    "    \"\"\"\n",
    "    \n",
    "    Rslope = []\n",
    "    Lslope = []\n",
    "\n",
    "    Llines = []\n",
    "    Rlines = []\n",
    "\n",
    "    for line in lines:\n",
    "        for x1, y1, x2, y2 in line:\n",
    "            m = ((y2-y1)/(x2-x1)) # slope\n",
    "            if m < 0:\n",
    "                Lslope.append(m)\n",
    "                Llines.append((x2,y2))\n",
    "            else:\n",
    "                Rslope.append(m)\n",
    "                Rlines.append((x1,y1))\n",
    "    \n",
    "    Rslope = sorted(Rslope)[int(len(Rslope)/2)]\n",
    "    Lslope = sorted(Lslope)[int(len(Lslope)/2)]\n",
    "\n",
    "    yleft = min([line[1] for line in Llines])\n",
    "    left_combined = tuple([line[0] for line in Llines if line[1] == yleft] + [yleft])\n",
    "\n",
    "    Rleft = min([line[1] for line in Rlines])\n",
    "    right_combined = tuple([line[0] for line in Rlines if line[1] == Rleft] + [Rleft])\n",
    "\n",
    "    xleft = int((img.shape[1]-left_combined[1])/Lslope) + left_combined[0]\n",
    "    xright = int((img.shape[1]-right_combined[1])/Rslope) + right_combined[0]\n",
    "    \n",
    "    cv2.line(img, left_combined, (xleft, img.shape[1]), color, thickness)\n",
    "    cv2.line(img, right_combined, (xright, img.shape[1]), color, thickness)                      \n",
    "            \n",
    "\n",
    "def hough_lines(img, rho, theta, threshold, min_line_len, max_line_gap):\n",
    "    \"\"\"\n",
    "    `img` should be the output of a Canny transform.\n",
    "        \n",
    "    Returns an image with hough lines drawn.\n",
    "    \"\"\"\n",
    "    lines = cv2.HoughLinesP(img, rho, theta, threshold, np.array([]), minLineLength=min_line_len, maxLineGap=max_line_gap)\n",
    "    line_img = np.zeros((img.shape[0], img.shape[1], 3), dtype=np.uint8)\n",
    "    draw_lines(line_img, lines)\n",
    "    return line_img\n",
    "\n",
    "# Python 3 has support for cool math symbols.\n",
    "\n",
    "def weighted_img(img, initial_img, α=0.8, β=1., λ=0.):\n",
    "    \"\"\"\n",
    "    `img` is the output of the hough_lines(), An image with lines drawn on it.\n",
    "    Should be a blank image (all black) with lines drawn on it.\n",
    "    \n",
    "    `initial_img` should be the image before any processing.\n",
    "    \n",
    "    The result image is computed as follows:\n",
    "    \n",
    "    initial_img * α + img * β + λ\n",
    "    NOTE: initial_img and img must be the same shape!\n",
    "    \"\"\"\n",
    "    return cv2.addWeighted(initial_img, α, img, β, λ)"
   ]
  },
  {
   "cell_type": "markdown",
   "metadata": {},
   "source": [
    "## Test on Images\n",
    "\n",
    "Now you should build your pipeline to work on the images in the directory \"test_images\"  \n",
    "**You should make sure your pipeline works well on these images before you try the videos.**"
   ]
  },
  {
   "cell_type": "code",
   "execution_count": 3,
   "metadata": {
    "collapsed": false,
    "scrolled": true
   },
   "outputs": [
    {
     "ename": "FileNotFoundError",
     "evalue": "[WinError 2] The system cannot find the file specified: 'testimages/desktop.ini'",
     "output_type": "error",
     "traceback": [
      "\u001b[0;31m---------------------------------------------------------------------------\u001b[0m",
      "\u001b[0;31mFileNotFoundError\u001b[0m                         Traceback (most recent call last)",
      "\u001b[0;32m<ipython-input-3-3137c838ced2>\u001b[0m in \u001b[0;36m<module>\u001b[0;34m()\u001b[0m\n\u001b[1;32m      1\u001b[0m \u001b[1;32mimport\u001b[0m \u001b[0mos\u001b[0m\u001b[1;33m\u001b[0m\u001b[0m\n\u001b[0;32m----> 2\u001b[0;31m \u001b[0mos\u001b[0m\u001b[1;33m.\u001b[0m\u001b[0mremove\u001b[0m\u001b[1;33m(\u001b[0m\u001b[1;34m\"testimages/desktop.ini\"\u001b[0m\u001b[1;33m)\u001b[0m\u001b[1;33m\u001b[0m\u001b[0m\n\u001b[0m\u001b[1;32m      3\u001b[0m \u001b[0mos\u001b[0m\u001b[1;33m.\u001b[0m\u001b[0mremove\u001b[0m\u001b[1;33m(\u001b[0m\u001b[1;34m\"testimages/thumbs.db\"\u001b[0m\u001b[1;33m)\u001b[0m\u001b[1;33m\u001b[0m\u001b[0m\n\u001b[1;32m      4\u001b[0m \u001b[0mos\u001b[0m\u001b[1;33m.\u001b[0m\u001b[0mlistdir\u001b[0m\u001b[1;33m(\u001b[0m\u001b[1;34m\"testimages/\"\u001b[0m\u001b[1;33m)\u001b[0m\u001b[1;33m\u001b[0m\u001b[0m\n",
      "\u001b[0;31mFileNotFoundError\u001b[0m: [WinError 2] The system cannot find the file specified: 'testimages/desktop.ini'"
     ]
    }
   ],
   "source": [
    "import os\n",
    "os.remove(\"testimages/desktop.ini\")\n",
    "os.remove(\"testimages/thumbs.db\")\n",
    "os.listdir(\"testimages/\")"
   ]
  },
  {
   "cell_type": "markdown",
   "metadata": {},
   "source": [
    "run your solution on all test_images and make copies into the test_images directory)."
   ]
  },
  {
   "cell_type": "code",
   "execution_count": null,
   "metadata": {
    "collapsed": true
   },
   "outputs": [],
   "source": []
  },
  {
   "cell_type": "code",
   "execution_count": 2,
   "metadata": {
    "collapsed": false,
    "scrolled": true
   },
   "outputs": [
    {
     "ename": "NameError",
     "evalue": "name 'os' is not defined",
     "output_type": "error",
     "traceback": [
      "\u001b[0;31m---------------------------------------------------------------------------\u001b[0m",
      "\u001b[0;31mNameError\u001b[0m                                 Traceback (most recent call last)",
      "\u001b[0;32m<ipython-input-2-cfded076d6ec>\u001b[0m in \u001b[0;36m<module>\u001b[0;34m()\u001b[0m\n\u001b[1;32m     48\u001b[0m \u001b[1;33m\u001b[0m\u001b[0m\n\u001b[1;32m     49\u001b[0m \u001b[1;33m\u001b[0m\u001b[0m\n\u001b[0;32m---> 50\u001b[0;31m \u001b[0mprocessimages\u001b[0m\u001b[1;33m(\u001b[0m\u001b[0mreadimages\u001b[0m\u001b[1;33m(\u001b[0m\u001b[1;34m\"testimages/\"\u001b[0m\u001b[1;33m)\u001b[0m\u001b[1;33m)\u001b[0m\u001b[1;33m\u001b[0m\u001b[0m\n\u001b[0m\u001b[1;32m     51\u001b[0m \u001b[1;31m#print(imagelist)\u001b[0m\u001b[1;33m\u001b[0m\u001b[1;33m\u001b[0m\u001b[0m\n\u001b[1;32m     52\u001b[0m \u001b[1;33m\u001b[0m\u001b[0m\n",
      "\u001b[0;32m<ipython-input-2-cfded076d6ec>\u001b[0m in \u001b[0;36mreadimages\u001b[0;34m(dir)\u001b[0m\n\u001b[1;32m     11\u001b[0m     \u001b[0my\u001b[0m \u001b[1;33m=\u001b[0m \u001b[1;36m0\u001b[0m\u001b[1;33m\u001b[0m\u001b[0m\n\u001b[1;32m     12\u001b[0m     \u001b[0mimage\u001b[0m\u001b[1;33m=\u001b[0m\u001b[1;33m[\u001b[0m\u001b[1;33m]\u001b[0m\u001b[1;33m\u001b[0m\u001b[0m\n\u001b[0;32m---> 13\u001b[0;31m     \u001b[1;32mfor\u001b[0m \u001b[0mi\u001b[0m \u001b[1;32min\u001b[0m \u001b[0mos\u001b[0m\u001b[1;33m.\u001b[0m\u001b[0mlistdir\u001b[0m\u001b[1;33m(\u001b[0m\u001b[0mdir\u001b[0m\u001b[1;33m)\u001b[0m\u001b[1;33m:\u001b[0m\u001b[1;33m\u001b[0m\u001b[0m\n\u001b[0m\u001b[1;32m     14\u001b[0m         \u001b[0mi2\u001b[0m\u001b[1;33m=\u001b[0m\u001b[0mdir\u001b[0m\u001b[1;33m+\u001b[0m\u001b[0mi\u001b[0m\u001b[1;33m\u001b[0m\u001b[0m\n\u001b[1;32m     15\u001b[0m         \u001b[0mglobals\u001b[0m\u001b[1;33m(\u001b[0m\u001b[1;33m)\u001b[0m\u001b[1;33m[\u001b[0m\u001b[1;34m'image%s'\u001b[0m \u001b[1;33m%\u001b[0m \u001b[0my\u001b[0m\u001b[1;33m]\u001b[0m \u001b[1;33m=\u001b[0m \u001b[0mmpimg\u001b[0m\u001b[1;33m.\u001b[0m\u001b[0mimread\u001b[0m\u001b[1;33m(\u001b[0m\u001b[0mi2\u001b[0m\u001b[1;33m)\u001b[0m\u001b[1;33m\u001b[0m\u001b[0m\n",
      "\u001b[0;31mNameError\u001b[0m: name 'os' is not defined"
     ]
    }
   ],
   "source": [
    "# TODO: Build your pipeline that will draw lane lines on the test_images\n",
    "# then save them to the test_images directory.\n",
    "from pathlib import Path\n",
    "#importing some useful packages\n",
    "import matplotlib.pyplot as plt\n",
    "import matplotlib.image as mpimg\n",
    "import numpy as np\n",
    "import cv2\n",
    "%matplotlib inline\n",
    "def readimages(dir):\n",
    "    y = 0\n",
    "    image=[]\n",
    "    for i in os.listdir(dir):\n",
    "        i2=dir+i\n",
    "        globals()['image%s' % y] = mpimg.imread(i2)\n",
    "        y+=1\n",
    "        #print('This image is:',i,type(image0), 'with dimensions:', image0.shape) \n",
    "    imagelist=[]\n",
    "    for i in range(y):\n",
    "        imagelist.append('image%s' % i)\n",
    "    return(imagelist)    \n",
    "\n",
    "def processimages(imagelist):\n",
    "    yp=0\n",
    "    for i in imagelist:\n",
    "        print(i)\n",
    "        plt.imshow(eval(i))\n",
    "        globals()['imagegray%s' % yp] = grayscale(eval(i))\n",
    "        globals()['vertex%s' % yp] = np.array( [[[125,eval(i).shape[0]],[450,325],[500,325],[875,eval(i).shape[0]]]], dtype=np.int32 )\n",
    "        \n",
    "        kernelsize=5\n",
    "        globals()['hough%s' % yp] = hough_lines(canny(region_of_interest(hough_lines(gaussian_blur(canny(eval(i),50,250),kernelsize),10,1,50,18,10),eval('vertex%s' % yp)),50,250),2,1,10,25,90)\n",
    "        globals()['finalim%s' % yp] = cv2.addWeighted(eval(i),0.8,eval('hough%s' %yp),1,0)\n",
    "        #plt.imshow(eval('finalim%s' %yp))\n",
    "        \n",
    "        #plt.imshow(eval('finalim%s' % yp))\n",
    "        \n",
    "        file_path =\"testimages/\"+ str('processedimage%s.png' % yp)\n",
    "                \n",
    "        if Path(file_path).is_file():\n",
    "            print(\"[WARN] The processed image exists at \",filepath,\", aborting write.\")\n",
    "            #cv2.imwrite(('processedimage%s.png' % yp),eval('finalim%s' % yp))\n",
    "        else:\n",
    "            print( \"[INFO] The processed image does not exists at \",file_path,\", writing file to disk.\")\n",
    "            cv2.imwrite(file_path,eval('finalim%s' % yp))       \n",
    "        yp+=1\n",
    "        \n",
    "    \n",
    "    \n",
    "processimages(readimages(\"testimages/\"))    \n",
    "#print(imagelist)    \n",
    "\n",
    "\n",
    "#plt.imshow(imagegray5, cmap='gray')\n",
    "\n",
    "    #img2=np.copy(image)\n",
    "    #img2lines = cv2.line(img2[300:,150:850],(24,99),(92,500),255)\n",
    "    #plt.imshow(img2lines)\n",
    "\n",
    "    "
   ]
  },
  {
   "cell_type": "markdown",
   "metadata": {},
   "source": [
    "## Test on Videos\n",
    "\n",
    "You know what's cooler than drawing lanes over images? Drawing lanes over video!\n",
    "\n",
    "We can test our solution on two provided videos:\n",
    "\n",
    "`solidWhiteRight.mp4`\n",
    "\n",
    "`solidYellowLeft.mp4`\n",
    "\n",
    "**Note: if you get an `import error` when you run the next cell, try changing your kernel (select the Kernel menu above --> Change Kernel).  Still have problems?  Try relaunching Jupyter Notebook from the terminal prompt. Also, check out [this forum post](https://carnd-forums.udacity.com/questions/22677062/answers/22677109) for more troubleshooting tips.**\n",
    "\n",
    "**If you get an error that looks like this:**\n",
    "```\n",
    "NeedDownloadError: Need ffmpeg exe. \n",
    "You can download it by calling: \n",
    "imageio.plugins.ffmpeg.download()\n",
    "```\n",
    "**Follow the instructions in the error message and check out [this forum post](https://carnd-forums.udacity.com/display/CAR/questions/26218840/import-videofileclip-error) for more troubleshooting tips across operating systems.**"
   ]
  },
  {
   "cell_type": "code",
   "execution_count": null,
   "metadata": {
    "collapsed": true
   },
   "outputs": [],
   "source": [
    "# Import everything needed to edit/save/watch video clips\n",
    "from moviepy.editor import VideoFileClip\n",
    "from IPython.display import HTML"
   ]
  },
  {
   "cell_type": "code",
   "execution_count": 4,
   "metadata": {
    "collapsed": false
   },
   "outputs": [
    {
     "name": "stdout",
     "output_type": "stream",
     "text": [
      "[MoviePy] >>>> Building video white.mp4\n",
      "[MoviePy] Writing video white.mp4\n"
     ]
    },
    {
     "name": "stderr",
     "output_type": "stream",
     "text": [
      "100%|███████████████████████████████████████▊| 221/222 [00:08<00:00, 21.88it/s]\n"
     ]
    },
    {
     "name": "stdout",
     "output_type": "stream",
     "text": [
      "[MoviePy] Done.\n",
      "[MoviePy] >>>> Video ready: white.mp4 \n",
      "\n",
      "Wall time: 9.31 s\n"
     ]
    },
    {
     "data": {
      "text/html": [
       "\n",
       "<video width=\"960\" height=\"540\" controls>\n",
       "  <source src=\"white.mp4\">\n",
       "</video>\n"
      ],
      "text/plain": [
       "<IPython.core.display.HTML object>"
      ]
     },
     "execution_count": 4,
     "metadata": {},
     "output_type": "execute_result"
    }
   ],
   "source": [
    "#importing some useful packages\n",
    "import matplotlib.pyplot as plt\n",
    "import matplotlib.image as mpimg\n",
    "import numpy as np\n",
    "import cv2\n",
    "%matplotlib inline\n",
    "import math\n",
    "from scipy import stats\n",
    "def grayscale(img):\n",
    "    \"\"\"Applies the Grayscale transform\n",
    "    This will return an image with only one color channel\n",
    "    but NOTE: to see the returned image as grayscale\n",
    "    (assuming your grayscaled image is called 'gray')\n",
    "    you should call plt.imshow(gray, cmap='gray')\"\"\"\n",
    "    return cv2.cvtColor(img, cv2.COLOR_RGB2GRAY)\n",
    "    # Or use BGR2GRAY if you read an image with cv2.imread()\n",
    "    # return cv2.cvtColor(img, cv2.COLOR_BGR2GRAY)\n",
    "    \n",
    "def canny(img, low_threshold, high_threshold):\n",
    "    \"\"\"Applies the Canny transform\"\"\"\n",
    "    return cv2.Canny(img, low_threshold, high_threshold)\n",
    "\n",
    "def gaussian_blur(img, kernel_size):\n",
    "    \"\"\"Applies a Gaussian Noise kernel\"\"\"\n",
    "    return cv2.GaussianBlur(img, (kernel_size, kernel_size), 0)\n",
    "\n",
    "def region_of_interest(img, vertices):\n",
    "    \"\"\"\n",
    "    Applies an image mask.\n",
    "    \n",
    "    Only keeps the region of the image defined by the polygon\n",
    "    formed from `vertices`. The rest of the image is set to black.\n",
    "    \"\"\"\n",
    "    #defining a blank mask to start with\n",
    "    mask = np.zeros_like(img)   \n",
    "    \n",
    "    #defining a 3 channel or 1 channel color to fill the mask with depending on the input image\n",
    "    if len(img.shape) > 2:\n",
    "        channel_count = img.shape[2]  # i.e. 3 or 4 depending on your image\n",
    "        ignore_mask_color = (255,) * channel_count\n",
    "    else:\n",
    "        ignore_mask_color = 255\n",
    "        \n",
    "    #filling pixels inside the polygon defined by \"vertices\" with the fill color    \n",
    "    cv2.fillPoly(mask, vertices, ignore_mask_color)\n",
    "    \n",
    "    #returning the image only where mask pixels are nonzero\n",
    "    masked_image = cv2.bitwise_and(img, mask)\n",
    "    return masked_image\n",
    "lines_lx=[]\n",
    "lines_ly=[]\n",
    "lines_rx=[] \n",
    "lines_ry=[]\n",
    "def draw_lines(img, lines, color=[255, 0, 0], thickness=3):\n",
    "    global lines_lx, lines_ly, lines_rx, lines_ry\n",
    "    for line in lines: # Using a slope filter of .5 to eliminate horizontal lines in the fit\n",
    "        for x1,y1,x2,y2 in line:\n",
    "            if x1 < img.shape[1]/2 and x2 < img.shape[1]/2 and (-0.5)*(x2-x1) > (y2-y1):\n",
    "                lines_lx.extend([x1,x2])\n",
    "                lines_ly.extend([y1,y2])\n",
    "            if x1 > img.shape[1]/2 and x2 > img.shape[1]/2 and (0.5)*(x2-x1) < (y2-y1):\n",
    "                lines_rx.extend([x1,x2])\n",
    "                lines_ry.extend([y1,y2])\n",
    "\n",
    "    #Using polyfit to calculate a left line polynomial \n",
    "    fitted_left = np.poly1d(np.polyfit(lines_lx, lines_ly, 1))\n",
    "    #Using linreg to calculate values for left line slope \n",
    "    slope_l, intercept_l, r_value, _, _ = stats.linregress(lines_lx, lines_ly)\n",
    "    fitted_left = lambda x: x * slope_l + intercept_l\n",
    "    cv2.line(img,(np.min(lines_lx), int(fitted_left(np.min(lines_lx)))), (int(img.shape[1]/2), int(fitted_left(img.shape[1]/2))), [255, 0, 0], thickness)\n",
    "    \n",
    "    #using polyfit to calculate a right line polynomial\n",
    "    fitted_right = np.poly1d(np.polyfit(lines_rx, lines_ry, 1))\n",
    "    #Using linreg to calculate values for left line slope \n",
    "    \n",
    "    slope_r, intercept_r, r_value, _, _ = stats.linregress(lines_rx, lines_ry)\n",
    "    fitted_right = lambda x: x * slope_r + intercept_r\n",
    "    cv2.line(img,(int(img.shape[1]/2), int(fitted_right(img.shape[1]/2))), (np.max(lines_rx), int(fitted_right(np.max(lines_rx)))), [255, 0, 0], thickness)\n",
    "    \n",
    "    \n",
    "    \"\"\"\n",
    "    for line in lines:\n",
    "        for x1, y1, x2, y2 in line:\n",
    "            m = float((y2-y1)/(x2-x1)) # slope\n",
    "            if m < 0:\n",
    "                Lslope.append(m)\n",
    "                Llinesx.append(x1)\n",
    "                Llinesx.append(x2)\n",
    "                Llinesy.append(y1)\n",
    "                Llinesy.append(y2)\n",
    "            elif m > 0:\n",
    "                Rslope.append(m)\n",
    "                Rlinesx.append(x1)\n",
    "                Rlinesx.append(x2)\n",
    "                Rlinesy.append(y1)\n",
    "                Rlinesy.append(y2)\n",
    "    \n",
    "    Lpara = np.polyfit(Llinesx, Llinesy,1)\n",
    "    Rpara = np.polyfit(Rlinesx, Rlinesy,1)\n",
    "    \n",
    "    Ly = Lpara[0]*x2+Lpara[1]\n",
    "    Ry = Rpara[0]*x1+Rpara[1]\n",
    "    f = np.poly1d(Lpara)\n",
    "    for i in np.arange(min(Llinesx), max(Llinesx)-10, 10):\n",
    "        cv2.line(img,(i, int(f(i))),\n",
    "            (i+10, int(f(i+10))),(255,0,0),10)\n",
    "    f = np.poly1d(Rpara)\n",
    "    for i in np.arange(min(Rlinesx), max(Rlinesx)-10, 10):\n",
    "        cv2.line(img,(i, int(f(i))),\n",
    "            (i+10, int(f(i+10))),(255,0,0),10)\n",
    "            \"\"\"\n",
    "    \n",
    "            \n",
    "\n",
    "def hough_lines(img, rho, theta, threshold, min_line_len, max_line_gap):\n",
    "    \"\"\"\n",
    "    `img` should be the output of a Canny transform.\n",
    "        \n",
    "    Returns an image with hough lines drawn.\n",
    "    \"\"\"\n",
    "    lines = cv2.HoughLinesP(img, rho, theta, threshold, np.array([]), minLineLength=min_line_len, maxLineGap=max_line_gap)\n",
    "    line_img = np.zeros((img.shape[0], img.shape[1], 3), dtype=np.uint8)\n",
    "    draw_lines(line_img, lines)\n",
    "    return line_img\n",
    "\n",
    "# Python 3 has support for cool math symbols.\n",
    "\n",
    "def weighted_img(img, initial_img, α=0.8, β=1., λ=0.):\n",
    "    \"\"\"\n",
    "    `img` is the output of the hough_lines(), An image with lines drawn on it.\n",
    "    Should be a blank image (all black) with lines drawn on it.\n",
    "    \n",
    "    `initial_img` should be the image before any processing.\n",
    "    \n",
    "    The result image is computed as follows:\n",
    "    \n",
    "    initial_img * α + img * β + λ\n",
    "    NOTE: initial_img and img must be the same shape!\n",
    "    \"\"\"\n",
    "    return cv2.addWeighted(initial_img, α, img, β, λ)\n",
    "def process_image(image):\n",
    "    # NOTE: The output you return should be a color image (3 channel) for processing video below\n",
    "    # TODO: put your pipeline here,\n",
    "    # you should return the final output (image with lines are drawn on lanes)\n",
    "    roi = np.array( [[[125,image.shape[0]],[(image.shape[1]/2)-25,325],[(image.shape[1]/2)+25,325],[875,image.shape[0]]]], dtype=np.int32 )\n",
    "    kernelsize=5\n",
    "    #houghx2 = hough_lines(gaussian_blur(canny(region_of_interest(hough_lines(gaussian_blur(canny(image,50,250),kernelsize),3,1,40,25,10),roi),50,250),kernelsize),2,1,10,25,5) \n",
    "    #houghx2 = hough_lines(gaussian_blur(canny(region_of_interest(hough_lines(gaussian_blur(canny(image,50,250),kernelsize),1,1,20,25,10),roi),50,250),kernelsize),1,1,30,20,5) \n",
    "    #houghx2 = hough_lines(gaussian_blur(canny(region_of_interest(hough_lines(gaussian_blur(canny(image,50,250),kernelsize),1,1,30,20,5),roi),50,250),kernelsize),1,1,20,25,5)\n",
    "    #result = cv2.addWeighted(image,1,houghx2,1,2)\n",
    "    #houghx2 = region_of_interest(hough_lines(gaussian_blur(canny(image,50,250),kernelsize),2,np.pi/180,30,10,5),roi)\n",
    "    houghx2 = hough_lines(gaussian_blur(canny(region_of_interest(image,roi),50,250),kernelsize),2,np.pi/180,30,10,5)\n",
    "    result = cv2.addWeighted(image,1,houghx2,1,2)\n",
    "    return(result)\n",
    "\n",
    "# Import everything needed to edit/save/watch video clips\n",
    "from moviepy.editor import VideoFileClip\n",
    "from IPython.display import HTML\n",
    "white_output = 'white.mp4'\n",
    "clip1 = VideoFileClip(\"solidWhiteRight.mp4\")\n",
    "white_clip = clip1.fl_image(process_image) #NOTE: this function expects color images!!\n",
    "%time white_clip.write_videofile(white_output, audio=False)\n",
    "HTML(\"\"\"\n",
    "<video width=\"960\" height=\"540\" controls>\n",
    "  <source src=\"{0}\">\n",
    "</video>\n",
    "\"\"\".format(white_output))\n"
   ]
  },
  {
   "cell_type": "markdown",
   "metadata": {},
   "source": [
    "Let's try the one with the solid white lane on the right first ..."
   ]
  },
  {
   "cell_type": "code",
   "execution_count": 11,
   "metadata": {
    "collapsed": false
   },
   "outputs": [
    {
     "name": "stdout",
     "output_type": "stream",
     "text": [
      "[MoviePy] >>>> Building video white.mp4\n",
      "[MoviePy] Writing video white.mp4\n"
     ]
    },
    {
     "name": "stderr",
     "output_type": "stream",
     "text": [
      "100%|███████████████████████████████████████▊| 221/222 [00:12<00:00, 15.63it/s]\n"
     ]
    },
    {
     "name": "stdout",
     "output_type": "stream",
     "text": [
      "[MoviePy] Done.\n",
      "[MoviePy] >>>> Video ready: white.mp4 \n",
      "\n",
      "Wall time: 12.9 s\n"
     ]
    }
   ],
   "source": [
    "white_output = 'white.mp4'\n",
    "clip1 = VideoFileClip(\"solidWhiteRight.mp4\")\n",
    "white_clip = clip1.fl_image(process_image) #NOTE: this function expects color images!!\n",
    "%time white_clip.write_videofile(white_output, audio=False)"
   ]
  },
  {
   "cell_type": "markdown",
   "metadata": {},
   "source": [
    "Play the video inline, or if you prefer find the video in your filesystem (should be in the same directory) and play it in your video player of choice."
   ]
  },
  {
   "cell_type": "code",
   "execution_count": 12,
   "metadata": {
    "collapsed": false
   },
   "outputs": [
    {
     "data": {
      "text/html": [
       "\n",
       "<video width=\"960\" height=\"540\" controls>\n",
       "  <source src=\"white.mp4\">\n",
       "</video>\n"
      ],
      "text/plain": [
       "<IPython.core.display.HTML object>"
      ]
     },
     "execution_count": 12,
     "metadata": {},
     "output_type": "execute_result"
    }
   ],
   "source": [
    "HTML(\"\"\"\n",
    "<video width=\"960\" height=\"540\" controls>\n",
    "  <source src=\"{0}\">\n",
    "</video>\n",
    "\"\"\".format(white_output))"
   ]
  },
  {
   "cell_type": "markdown",
   "metadata": {},
   "source": [
    "**At this point, if you were successful you probably have the Hough line segments drawn onto the road, but what about identifying the full extent of the lane and marking it clearly as in the example video (P1_example.mp4)?  Think about defining a line to run the full length of the visible lane based on the line segments you identified with the Hough Transform.  Modify your draw_lines function accordingly and try re-running your pipeline.**"
   ]
  },
  {
   "cell_type": "markdown",
   "metadata": {},
   "source": [
    "Now for the one with the solid yellow lane on the left. This one's more tricky!"
   ]
  },
  {
   "cell_type": "code",
   "execution_count": 13,
   "metadata": {
    "collapsed": false
   },
   "outputs": [
    {
     "name": "stdout",
     "output_type": "stream",
     "text": [
      "[MoviePy] >>>> Building video extra.mp4\n",
      "[MoviePy] Writing video extra.mp4\n"
     ]
    },
    {
     "name": "stderr",
     "output_type": "stream",
     "text": [
      "100%|████████████████████████████████████████| 251/251 [00:37<00:00,  5.53it/s]\n"
     ]
    },
    {
     "name": "stdout",
     "output_type": "stream",
     "text": [
      "[MoviePy] Done.\n",
      "[MoviePy] >>>> Video ready: extra.mp4 \n",
      "\n",
      "Wall time: 38.7 s\n"
     ]
    },
    {
     "data": {
      "text/html": [
       "\n",
       "<video width=\"960\" height=\"540\" controls>\n",
       "  <source src=\"extra.mp4\">\n",
       "</video>\n"
      ],
      "text/plain": [
       "<IPython.core.display.HTML object>"
      ]
     },
     "execution_count": 13,
     "metadata": {},
     "output_type": "execute_result"
    }
   ],
   "source": [
    "def process_image(image):\n",
    "     # NOTE: The output you return should be a color image (3 channel) for processing video below\n",
    "    # TODO: put your pipeline here,\n",
    "    # you should return the final output (image with lines are drawn on lanes)\n",
    "    roi = np.array( [[[125,image.shape[0]],[(image.shape[1]/2)-25,325],[(image.shape[1]/2)+25,325],[875,image.shape[0]]]], dtype=np.int32 )\n",
    "    kernelsize=5\n",
    "    #houghx2 = hough_lines(gaussian_blur(canny(region_of_interest(hough_lines(gaussian_blur(canny(image,50,250),kernelsize),3,1,40,25,10),roi),50,250),kernelsize),2,1,10,25,5) \n",
    "    #houghx2 = hough_lines(gaussian_blur(canny(region_of_interest(hough_lines(gaussian_blur(canny(image,50,250),kernelsize),1,1,20,25,10),roi),50,250),kernelsize),1,1,30,20,5) \n",
    "    #houghx2 = hough_lines(gaussian_blur(canny(region_of_interest(hough_lines(gaussian_blur(canny(image,50,250),kernelsize),1,1,30,20,5),roi),50,250),kernelsize),1,1,20,25,5)\n",
    "    #result = cv2.addWeighted(image,1,houghx2,1,2)\n",
    "    #houghx2 = region_of_interest(hough_lines(gaussian_blur(canny(image,50,250),kernelsize),2,np.pi/180,30,10,5),roi)\n",
    "    houghx2 = hough_lines(gaussian_blur(canny(region_of_interest(image,roi),50,250),kernelsize),2,np.pi/180,30,10,5)\n",
    "    result = cv2.addWeighted(image,1,houghx2,1,2)\n",
    "    return(result)\n",
    "\n",
    "\n",
    "\n",
    "\n",
    "challenge_output = 'extra.mp4'\n",
    "clip2 = VideoFileClip('challenge.mp4')\n",
    "challenge_clip = clip2.fl_image(process_image)\n",
    "%time challenge_clip.write_videofile(challenge_output, audio=False)\n",
    "\n",
    "HTML(\"\"\"\n",
    "<video width=\"960\" height=\"540\" controls>\n",
    "  <source src=\"{0}\">\n",
    "</video>\n",
    "\"\"\".format(challenge_output))"
   ]
  },
  {
   "cell_type": "code",
   "execution_count": null,
   "metadata": {
    "collapsed": false
   },
   "outputs": [],
   "source": [
    "HTML(\"\"\"\n",
    "<video width=\"960\" height=\"540\" controls>\n",
    "  <source src=\"{0}\">\n",
    "</video>\n",
    "\"\"\".format(yellow_output))"
   ]
  },
  {
   "cell_type": "markdown",
   "metadata": {},
   "source": [
    "## Reflections\n",
    "\n",
    "Congratulations on finding the lane lines!  As the final step in this project, we would like you to share your thoughts on your lane finding pipeline... specifically, how could you imagine making your algorithm better / more robust?  Where will your current algorithm be likely to fail?\n",
    "\n",
    "Please add your thoughts below,  and if you're up for making your pipeline more robust, be sure to scroll down and check out the optional challenge video below!\n",
    "\n",
    "\n",
    "### REFLECTIONS Sai Prateek Medi\n",
    "This was a very exciting project to work on and I'm very interested in the future ones.\n",
    "I have liked working on stages of this project in discrete steps to get to the final output here. Originally, I designed the code to handle directories of images and realized that the processing upon a single image was all that was necessary to work on the videos. I tried using multiple passes of hough line generation to see if redrawing the extrapolated lines would be a better mechanism.\n",
    "Ultimately the most value was realizing how to tune and adjust draw_lines function. The forum provided extensive methods and I explored many different approaches. Such as  \n",
    "\n",
    "    Rpara = np.polyfit(Rlinesx, Rlinesy,1)\n",
    "    Ly = Lpara[0]*x2+Lpara[1]\n",
    "    Ry = Rpara[0]*x1+Rpara[1]\n",
    "    f = np.poly1d(Lpara)\n",
    "    for i in np.arange(min(Llinesx), max(Llinesx)-10, 10):\n",
    "        cv2.line(img,(i, int(f(i))),\n",
    "            (i+10, int(f(i+10))),(255,0,0),10)\n",
    "Which didn't perform to the same degree as what I ultimately used in scipy libraries.\n",
    "I will need to adjust the filtering of slopes that were ultimately used in regression to make a single lane line for both left and right lines. This is why the challenge video looks so disastrous. I will be tweaking this filtering with other adjustments to the linreg algorithm to make the challenge result to be fitting properly.\n",
    "This was a privilege to work on and I look forward to advice on how to make the challenge results fit better, whether it be the region of interest modifications, tuning the canny and hough parameters or draw lines.\n",
    "\n",
    "Thank you very much!\n",
    "Prateek Medi\n",
    "medisp@icloud.com\n",
    "\n"
   ]
  },
  {
   "cell_type": "markdown",
   "metadata": {},
   "source": [
    "## Submission\n",
    "\n",
    "If you're satisfied with your video outputs it's time to submit!  Submit this ipython notebook for review.\n"
   ]
  },
  {
   "cell_type": "markdown",
   "metadata": {
    "collapsed": true
   },
   "source": [
    "## Optional Challenge\n",
    "\n",
    "Try your lane finding pipeline on the video below.  Does it still work?  Can you figure out a way to make it more robust?  If you're up for the challenge, modify your pipeline so it works with this video and submit it along with the rest of your project!"
   ]
  },
  {
   "cell_type": "markdown",
   "metadata": {
    "collapsed": true
   },
   "source": [
    "def process_image(image):\n",
    "    # NOTE: The output you return should be a color image (3 channel) for processing video below\n",
    "    # TODO: put your pipeline here,\n",
    "    # you should return the final output (image with lines are drawn on lanes)\n",
    "    roi = np.array( [[[150,image.shape[0]-10],[(image.shape[1]/2),350],[(image.shape[1]/2)+25,350,[91,image.shape[0]-10]]], dtype=np.int32 )\n",
    "    kernelsize=5\n",
    "    #houghx2 = hough_lines(gaussian_blur(canny(region_of_interest(hough_lines(gaussian_blur(canny(image,50,250),kernelsize),3,1,40,25,10),roi),50,250),kernelsize),2,1,10,25,5) \n",
    "    #houghx2 = hough_lines(gaussian_blur(canny(region_of_interest(hough_lines(gaussian_blur(canny(image,50,250),kernelsize),1,1,20,25,10),roi),50,250),kernelsize),1,1,30,20,5) \n",
    "    #houghx2 = hough_lines(gaussian_blur(canny(region_of_interest(hough_lines(gaussian_blur(canny(image,50,250),kernelsize),1,1,40,20,5),roi),50,250),kernelsize),2,1,40,25,5)\n",
    "    houghx2 = hough_lines(gaussian_blur(canny(region_of_interest(hough_lines(gaussian_blur(canny(image,50,250),kernelsize),1,1,50,15,10),roi),50,250),kernelsize),1,1,50,15,5)\n",
    "    result = cv2.addWeighted(image,1,houghx2,1,2)\n",
    "    return(result)\n",
    "\n",
    "\n",
    "\n",
    "\n",
    "challenge_output = 'extra.mp4'\n",
    "clip2 = VideoFileClip('challenge.mp4')\n",
    "challenge_clip = clip2.fl_image(process_image)\n",
    "%time challenge_clip.write_videofile(challenge_output, audio=False)\n",
    "\n",
    "HTML(\"\"\"\n",
    "<video width=\"960\" height=\"540\" controls>\n",
    "  <source src=\"{0}\">\n",
    "</video>\n",
    "\"\"\".format(challenge_output))"
   ]
  },
  {
   "cell_type": "code",
   "execution_count": null,
   "metadata": {
    "collapsed": true
   },
   "outputs": [],
   "source": [
    "HTML(\"\"\"\n",
    "<video width=\"960\" height=\"540\" controls>\n",
    "  <source src=\"{0}\">\n",
    "</video>\n",
    "\"\"\".format(challenge_output))"
   ]
  }
 ],
 "metadata": {
  "anaconda-cloud": {},
  "kernelspec": {
   "display_name": "Python 3",
   "language": "python",
   "name": "python3"
  },
  "language_info": {
   "codemirror_mode": {
    "name": "ipython",
    "version": 3
   },
   "file_extension": ".py",
   "mimetype": "text/x-python",
   "name": "python",
   "nbconvert_exporter": "python",
   "pygments_lexer": "ipython3",
   "version": "3.5.2"
  },
  "widgets": {
   "state": {},
   "version": "1.1.2"
  }
 },
 "nbformat": 4,
 "nbformat_minor": 0
}
